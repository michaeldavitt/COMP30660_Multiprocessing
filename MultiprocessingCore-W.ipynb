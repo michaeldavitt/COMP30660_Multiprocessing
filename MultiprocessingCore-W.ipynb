{
 "cells": [
  {
   "cell_type": "markdown",
   "metadata": {},
   "source": [
    "# Multiprocessing using Pools \n",
    "A simple framework for assessing the impact of multiprocessing on runtime on a multi-core machine. "
   ]
  },
  {
   "cell_type": "code",
   "execution_count": 1,
   "metadata": {},
   "outputs": [],
   "source": [
    "import time\n",
    "import math\n",
    "import multiprocessing\n",
    "from multiprocessing import Pool\n",
    "import matplotlib.pyplot as plt\n",
    "\n",
    "# A function for timing a job that uses a pool of processes.\n",
    "#  f is a function that takes a single argument\n",
    "#  data is an array of arguments on which f will be mapped\n",
    "#  pool_size is the number of processes in the pool. \n",
    "def pool_process(f, data, pool_size):\n",
    "    tp1 = time.time()\n",
    "    pool = Pool(processes=pool_size) # initialize the Pool.\n",
    "    result = pool.map(f, data)       # map f to the data using the Pool of processes to do the work \n",
    "    pool.close() # No more processes\n",
    "    pool.join()  # Wait for the pool processing to complete. \n",
    "    # print(\"Results\", result)\n",
    "    # print(\"Overall Time:\", int(time.time()-tp1))\n",
    "    return float(time.time()-tp1)\n",
    " "
   ]
  },
  {
   "cell_type": "markdown",
   "metadata": {},
   "source": [
    "## Load Target function separately \n",
    "The target function needs to be loaded in from a separate python file.\n",
    "So save this function declaration in a file miscFunc.py\n",
    "\n",
    "    import math\n",
    "\n",
    "    def my_func(x):  \n",
    "        s = math.sqrt(x)  \n",
    "        return s\n",
    "    "
   ]
  },
  {
   "cell_type": "code",
   "execution_count": 2,
   "metadata": {},
   "outputs": [],
   "source": [
    "import miscFunc as miscFunc # if miscFunc.py is changed the kernel needs to be restarted. "
   ]
  },
  {
   "cell_type": "markdown",
   "metadata": {
    "collapsed": true
   },
   "source": [
    "This verbose version shows which process in the pool is running each task.   \n",
    "Put this definition in miscFunc.py as well.  \n",
    "\n",
    "    def my_func_verbose(x):\n",
    "        s = math.sqrt(x)\n",
    "        print(\"Task\", multiprocessing.current_process(), x, s)\n",
    "        return s"
   ]
  },
  {
   "cell_type": "code",
   "execution_count": 3,
   "metadata": {},
   "outputs": [],
   "source": [
    "dataRange = range(20)"
   ]
  },
  {
   "cell_type": "markdown",
   "metadata": {},
   "source": [
    "Use the pool_process function to apply my_func to the data in dataRange.  \n",
    "This task is so light it requires very little processing time. "
   ]
  },
  {
   "cell_type": "code",
   "execution_count": 4,
   "metadata": {},
   "outputs": [
    {
     "data": {
      "text/plain": [
       "3.525559902191162"
      ]
     },
     "execution_count": 4,
     "metadata": {},
     "output_type": "execute_result"
    }
   ],
   "source": [
    "dataRange = range(10)\n",
    "pool_process(miscFunc.my_func, dataRange, 1)"
   ]
  },
  {
   "cell_type": "markdown",
   "metadata": {},
   "source": [
    "## A naive function for checking primes "
   ]
  },
  {
   "cell_type": "code",
   "execution_count": 5,
   "metadata": {
    "collapsed": true
   },
   "outputs": [],
   "source": [
    "# def check_prime(num):\n",
    "#     t1 = time.time()\n",
    "#     res = False\n",
    "#     if num > 0:\n",
    "#         # check for factors\n",
    "#         for i in range(2,num):\n",
    "#             if (num % i) == 0:\n",
    "#                 print(num,\"is not a prime number\")\n",
    "#                 print(i,\"times\",num//i,\"is\",num)\n",
    "#                 print(\"Time:\", int(time.time()-t1))\n",
    "#                 break\n",
    "#         else:\n",
    "#             print(num,\"is a prime number\")\n",
    "#             print(\"Time:\", time.time()-t1) \n",
    "#             res = True\n",
    "#             # if input number is less than\n",
    "#             # or equal to 1, it is not prime\n",
    "#     print(\"Task\", multiprocessing.current_process(), num, res)\n",
    "#     return res\n"
   ]
  },
  {
   "cell_type": "code",
   "execution_count": 6,
   "metadata": {},
   "outputs": [
    {
     "name": "stdout",
     "output_type": "stream",
     "text": [
      "15488801 is a prime number\n",
      "Time: 2.3850488662719727\n",
      "Task <_MainProcess name='MainProcess' parent=None started> 15488801 True\n"
     ]
    },
    {
     "data": {
      "text/plain": [
       "True"
      ]
     },
     "execution_count": 6,
     "metadata": {},
     "output_type": "execute_result"
    }
   ],
   "source": [
    "miscFunc.check_prime(15488801)"
   ]
  },
  {
   "cell_type": "code",
   "execution_count": 7,
   "metadata": {},
   "outputs": [
    {
     "name": "stdout",
     "output_type": "stream",
     "text": [
      "15488803 is not a prime number\n",
      "11 times 1408073 is 15488803\n",
      "Time: 0\n",
      "Task <_MainProcess name='MainProcess' parent=None started> 15488803 False\n"
     ]
    },
    {
     "data": {
      "text/plain": [
       "False"
      ]
     },
     "execution_count": 7,
     "metadata": {},
     "output_type": "execute_result"
    }
   ],
   "source": [
    "miscFunc.check_prime(15488803)"
   ]
  },
  {
   "cell_type": "code",
   "execution_count": 8,
   "metadata": {},
   "outputs": [],
   "source": [
    "check_work = [45,13,4]"
   ]
  },
  {
   "cell_type": "code",
   "execution_count": 9,
   "metadata": {},
   "outputs": [
    {
     "data": {
      "text/plain": [
       "3.508424997329712"
      ]
     },
     "execution_count": 9,
     "metadata": {},
     "output_type": "execute_result"
    }
   ],
   "source": [
    "pool_process(miscFunc.my_func_verbose, check_work, 1)"
   ]
  },
  {
   "cell_type": "markdown",
   "metadata": {},
   "source": [
    "# Multiprocessing comparison for prime number checking function"
   ]
  },
  {
   "cell_type": "markdown",
   "metadata": {},
   "source": [
    "## Set up input array"
   ]
  },
  {
   "cell_type": "code",
   "execution_count": 10,
   "metadata": {},
   "outputs": [
    {
     "name": "stdout",
     "output_type": "stream",
     "text": [
      "1\n",
      "101\n",
      "201\n",
      "301\n",
      "401\n",
      "501\n",
      "601\n",
      "701\n",
      "801\n",
      "901\n"
     ]
    }
   ],
   "source": [
    "one_core_runtime = []\n",
    "\n",
    "for i in range(1, 1001, 100):\n",
    "    number_array = [x for x in range(10000000, 10000000 + i)]\n",
    "    one_core_runtime.append(pool_process(miscFunc.check_prime, number_array, 1))\n",
    "    print(i)"
   ]
  },
  {
   "cell_type": "code",
   "execution_count": 11,
   "metadata": {},
   "outputs": [
    {
     "name": "stdout",
     "output_type": "stream",
     "text": [
      "1\n",
      "101\n",
      "201\n",
      "301\n",
      "401\n",
      "501\n",
      "601\n",
      "701\n",
      "801\n",
      "901\n"
     ]
    }
   ],
   "source": [
    "two_core_runtime = []\n",
    "\n",
    "for i in range(1, 1001, 100):\n",
    "    number_array = [x for x in range(10000000, 10000000 + i)]\n",
    "    two_core_runtime.append(pool_process(miscFunc.check_prime, number_array, 2))\n",
    "    print(i)"
   ]
  },
  {
   "cell_type": "code",
   "execution_count": 12,
   "metadata": {},
   "outputs": [
    {
     "name": "stdout",
     "output_type": "stream",
     "text": [
      "1\n",
      "101\n",
      "201\n",
      "301\n",
      "401\n",
      "501\n",
      "601\n",
      "701\n",
      "801\n",
      "901\n"
     ]
    }
   ],
   "source": [
    "three_core_runtime = []\n",
    "\n",
    "for i in range(1, 1001, 100):\n",
    "    number_array = [x for x in range(10000000, 10000000 + i)]\n",
    "    three_core_runtime.append(pool_process(miscFunc.check_prime, number_array, 3))\n",
    "    print(i)"
   ]
  },
  {
   "cell_type": "code",
   "execution_count": 13,
   "metadata": {},
   "outputs": [
    {
     "name": "stdout",
     "output_type": "stream",
     "text": [
      "1\n",
      "101\n",
      "201\n",
      "301\n",
      "401\n",
      "501\n",
      "601\n",
      "701\n",
      "801\n",
      "901\n"
     ]
    }
   ],
   "source": [
    "four_core_runtime = []\n",
    "\n",
    "for i in range(1, 1001, 100):\n",
    "    number_array = [x for x in range(10000000, 10000000 + i)]\n",
    "    four_core_runtime.append(pool_process(miscFunc.check_prime, number_array, 4))\n",
    "    print(i)"
   ]
  },
  {
   "cell_type": "code",
   "execution_count": 14,
   "metadata": {},
   "outputs": [
    {
     "data": {
      "text/plain": [
       "Text(0.5, 1.0, 'Multiprocessing runtime analysis')"
      ]
     },
     "execution_count": 14,
     "metadata": {},
     "output_type": "execute_result"
    },
    {
     "data": {
      "image/png": "[encoded data removed]",
      "text/plain": [
       "<Figure size 1440x720 with 1 Axes>"
      ]
     },
     "metadata": {
      "needs_background": "light"
     },
     "output_type": "display_data"
    }
   ],
   "source": [
    "size_of_lists = [x for x in range(1, 1001, 100)]\n",
    "\n",
    "fig, ax = plt.subplots(figsize=(20,10))\n",
    "ax.plot(size_of_lists, one_core_runtime, label=\"One Core\")\n",
    "ax.plot(size_of_lists, two_core_runtime, label=\"Two Core\")\n",
    "ax.plot(size_of_lists, three_core_runtime, label=\"Three Core\")\n",
    "ax.plot(size_of_lists, four_core_runtime, label=\"Four Cores\")\n",
    "\n",
    "plt.legend()\n",
    "plt.xlabel(\"List size\")\n",
    "plt.ylabel(\"Runtime (seconds)\")\n",
    "plt.title(\"Multiprocessing runtime analysis\")"
   ]
  }
 ],
 "metadata": {
  "anaconda-cloud": {},
  "kernelspec": {
   "display_name": "Python 3 (ipykernel)",
   "language": "python",
   "name": "python3"
  },
  "language_info": {
   "codemirror_mode": {
    "name": "ipython",
    "version": 3
   },
   "file_extension": ".py",
   "mimetype": "text/x-python",
   "name": "python",
   "nbconvert_exporter": "python",
   "pygments_lexer": "ipython3",
   "version": "3.10.0"
  }
 },
 "nbformat": 4,
 "nbformat_minor": 1
}
