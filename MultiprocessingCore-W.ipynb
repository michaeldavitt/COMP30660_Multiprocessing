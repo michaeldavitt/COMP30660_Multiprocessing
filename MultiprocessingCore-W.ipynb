{
 "cells": [
  {
   "cell_type": "markdown",
   "metadata": {},
   "source": [
    "# Multiprocessing using Pools \n",
    "A simple framework for assessing the impact of multiprocessing on runtime on a multi-core machine. "
   ]
  },
  {
   "cell_type": "code",
   "execution_count": null,
   "metadata": {},
   "outputs": [],
   "source": [
    "import time\n",
    "import math\n",
    "import multiprocessing\n",
    "from multiprocessing import Pool\n",
    "import matplotlib.pyplot as plt\n",
    "\n",
    "# A function for timing a job that uses a pool of processes.\n",
    "#  f is a function that takes a single argument\n",
    "#  data is an array of arguments on which f will be mapped\n",
    "#  pool_size is the number of processes in the pool. \n",
    "def pool_process(f, data, pool_size):\n",
    "    tp1 = time.time()\n",
    "    pool = Pool(processes=pool_size) # initialize the Pool.\n",
    "    result = pool.map(f, data)       # map f to the data using the Pool of processes to do the work \n",
    "    pool.close() # No more processes\n",
    "    pool.join()  # Wait for the pool processing to complete. \n",
    "    # print(\"Results\", result)\n",
    "    # print(\"Overall Time:\", int(time.time()-tp1))\n",
    "    return float(time.time()-tp1)\n",
    " "
   ]
  },
  {
   "cell_type": "markdown",
   "metadata": {},
   "source": [
    "## Load Target function separately \n",
    "The target function needs to be loaded in from a separate python file.\n",
    "So save this function declaration in a file miscFunc.py\n",
    "\n",
    "    import math\n",
    "\n",
    "    def my_func(x):  \n",
    "        s = math.sqrt(x)  \n",
    "        return s\n",
    "    "
   ]
  },
  {
   "cell_type": "code",
   "execution_count": null,
   "metadata": {},
   "outputs": [],
   "source": [
    "import miscFunc as miscFunc # if miscFunc.py is changed the kernel needs to be restarted. "
   ]
  },
  {
   "cell_type": "markdown",
   "metadata": {
    "collapsed": true
   },
   "source": [
    "This verbose version shows which process in the pool is running each task.   \n",
    "Put this definition in miscFunc.py as well.  \n",
    "\n",
    "    def my_func_verbose(x):\n",
    "        s = math.sqrt(x)\n",
    "        print(\"Task\", multiprocessing.current_process(), x, s)\n",
    "        return s"
   ]
  },
  {
   "cell_type": "code",
   "execution_count": null,
   "metadata": {},
   "outputs": [],
   "source": [
    "dataRange = range(20)"
   ]
  },
  {
   "cell_type": "markdown",
   "metadata": {},
   "source": [
    "Use the pool_process function to apply my_func to the data in dataRange.  \n",
    "This task is so light it requires very little processing time. "
   ]
  },
  {
   "cell_type": "code",
   "execution_count": null,
   "metadata": {},
   "outputs": [],
   "source": [
    "dataRange = range(10)\n",
    "pool_process(miscFunc.my_func, dataRange, 1)"
   ]
  },
  {
   "cell_type": "markdown",
   "metadata": {},
   "source": [
    "## A naive function for checking primes "
   ]
  },
  {
   "cell_type": "code",
   "execution_count": null,
   "metadata": {},
   "outputs": [],
   "source": [
    "miscFunc.check_prime(15488801)"
   ]
  },
  {
   "cell_type": "code",
   "execution_count": null,
   "metadata": {},
   "outputs": [],
   "source": [
    "miscFunc.check_prime(15488803)"
   ]
  },
  {
   "cell_type": "code",
   "execution_count": null,
   "metadata": {},
   "outputs": [],
   "source": [
    "check_work = [45,13,4]"
   ]
  },
  {
   "cell_type": "code",
   "execution_count": null,
   "metadata": {},
   "outputs": [],
   "source": [
    "pool_process(miscFunc.my_func_verbose, check_work, 1)"
   ]
  },
  {
   "cell_type": "markdown",
   "metadata": {},
   "source": [
    "# Multiprocessing comparison for prime number checking function"
   ]
  },
  {
   "cell_type": "markdown",
   "metadata": {},
   "source": [
    "Note that, due to the nature of the check prime function, some results will be very quick (eg: for even numbers, only one check is required, because the check primes function will test if it is divisible by 2, and since it is, it is not a prime number). For some numbers, like a very large prime number, the function will take a long time to verify that the number is prime, because it needs to iterate through each number between 2 and the number - 1. Since we are only interested in the increase in total runtime due to the increase in the size of the input list, we will set each number to be a large prime number (15488801). This implies that the function should take the same amount of time for a given input. This will allow us to see how multicores increase performance, as we are splitting the same task over multiple cores so that the total task completion time is lower."
   ]
  },
  {
   "cell_type": "markdown",
   "metadata": {},
   "source": [
    "## Set up input array"
   ]
  },
  {
   "cell_type": "code",
   "execution_count": null,
   "metadata": {},
   "outputs": [],
   "source": [
    "one_core_runtime = []\n",
    "limit = 20\n",
    "\n",
    "for i in range(1, limit+1):\n",
    "    number_array = [15488801 for x in range(1, i+1)]\n",
    "    one_core_runtime.append(pool_process(miscFunc.check_prime, number_array, 1))\n",
    "    print(i)"
   ]
  },
  {
   "cell_type": "code",
   "execution_count": null,
   "metadata": {},
   "outputs": [],
   "source": [
    "two_core_runtime = []\n",
    "\n",
    "for i in range(1, limit+1):\n",
    "    number_array = [15488801 for x in range(1, i+1)]\n",
    "    two_core_runtime.append(pool_process(miscFunc.check_prime, number_array, 2))\n",
    "    print(i)"
   ]
  },
  {
   "cell_type": "code",
   "execution_count": null,
   "metadata": {},
   "outputs": [],
   "source": [
    "three_core_runtime = []\n",
    "\n",
    "for i in range(1, limit+1):\n",
    "    number_array = [15488801 for x in range(1, i+1)]\n",
    "    three_core_runtime.append(pool_process(miscFunc.check_prime, number_array, 3))\n",
    "    print(i)"
   ]
  },
  {
   "cell_type": "code",
   "execution_count": null,
   "metadata": {},
   "outputs": [],
   "source": [
    "four_core_runtime = []\n",
    "\n",
    "for i in range(1, limit+1):\n",
    "    number_array = [15488801 for x in range(1, i+1)]\n",
    "    four_core_runtime.append(pool_process(miscFunc.check_prime, number_array, 4))\n",
    "    print(i)"
   ]
  },
  {
   "cell_type": "code",
   "execution_count": null,
   "metadata": {},
   "outputs": [],
   "source": [
    "size_of_lists = range(1, limit+1)\n",
    "\n",
    "fig, ax = plt.subplots(figsize=(20,10))\n",
    "ax.plot(size_of_lists, one_core_runtime, label=\"One Core\")\n",
    "ax.plot(size_of_lists, two_core_runtime, label=\"Two Core\")\n",
    "ax.plot(size_of_lists, three_core_runtime, label=\"Three Core\")\n",
    "ax.plot(size_of_lists, four_core_runtime, label=\"Four Cores\")\n",
    "\n",
    "plt.legend()\n",
    "plt.xlabel(\"List size\")\n",
    "plt.ylabel(\"Runtime (seconds)\")\n",
    "plt.title(\"Multiprocessing runtime analysis\")"
   ]
  }
 ],
 "metadata": {
  "anaconda-cloud": {},
  "kernelspec": {
   "display_name": "Python 3 (ipykernel)",
   "language": "python",
   "name": "python3"
  },
  "language_info": {
   "codemirror_mode": {
    "name": "ipython",
    "version": 3
   },
   "file_extension": ".py",
   "mimetype": "text/x-python",
   "name": "python",
   "nbconvert_exporter": "python",
   "pygments_lexer": "ipython3",
   "version": "3.10.0"
  }
 },
 "nbformat": 4,
 "nbformat_minor": 1
}
